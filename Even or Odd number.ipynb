{
 "cells": [
  {
   "cell_type": "markdown",
   "metadata": {},
   "source": [
    "Even or Odd number\n"
   ]
  },
  {
   "cell_type": "code",
   "execution_count": 11,
   "metadata": {},
   "outputs": [
    {
     "name": "stdout",
     "output_type": "stream",
     "text": [
      "number to check3\n",
      "odd : 3\n"
     ]
    }
   ],
   "source": [
    "num = int(input(\"number to check\"))\n",
    "if num % 2 == 0 :\n",
    "    print(f\"even : {num}\")\n",
    "else:\n",
    "     print(f\"odd : {num}\")   "
   ]
  }
 ],
 "metadata": {
  "kernelspec": {
   "display_name": "Python 3",
   "language": "python",
   "name": "python3"
  },
  "language_info": {
   "codemirror_mode": {
    "name": "ipython",
    "version": 3
   },
   "file_extension": ".py",
   "mimetype": "text/x-python",
   "name": "python",
   "nbconvert_exporter": "python",
   "pygments_lexer": "ipython3",
   "version": "3.8.5"
  }
 },
 "nbformat": 4,
 "nbformat_minor": 4
}
